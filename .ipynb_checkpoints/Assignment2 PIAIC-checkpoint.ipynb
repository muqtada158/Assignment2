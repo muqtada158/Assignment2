{
 "cells": [
  {
   "cell_type": "markdown",
   "metadata": {},
   "source": [
    "# The ABC company has hired you as an intern on the coding team that creates e-commerce applications.  \n",
    "You must write a script that asks the user for a value. The value must be used as a whole number in a calculation, even if the user enters a decimal value. \n",
    "\n",
    "You need to write the code to meet the requirements."
   ]
  },
  {
   "cell_type": "code",
   "execution_count": 3,
   "metadata": {},
   "outputs": [
    {
     "name": "stdout",
     "output_type": "stream",
     "text": [
      "Enter number of Products: 6.5\n",
      "Thanks for buying  6  Products \n"
     ]
    }
   ],
   "source": [
    "a = float(input(\"Enter number of Products: \"))\n",
    "b = int(a)\n",
    "print(\"Thanks for buying \", b, \" Products \")"
   ]
  },
  {
   "cell_type": "code",
   "execution_count": null,
   "metadata": {},
   "outputs": [],
   "source": []
  },
  {
   "cell_type": "markdown",
   "metadata": {},
   "source": [
    "# You are creating a Python program that shows a congratulation message to employees on their service anniversary.\n",
    "You need to calculate the number of years of service and print a congratulatory message."
   ]
  },
  {
   "cell_type": "code",
   "execution_count": 2,
   "metadata": {},
   "outputs": [
    {
     "name": "stdout",
     "output_type": "stream",
     "text": [
      "Your appoinment year: 2012\n",
      "Your retirement year: 2019\n",
      "Congratulations You have served 7 years in our company\n"
     ]
    }
   ],
   "source": [
    "a=int(input(\"Your appoinment year: \"))\n",
    "b=int(input(\"Your retirement year: \")) \n",
    "c=b-a\n",
    "print(\"Congratulations You have served\", c , \"years in our company\")"
   ]
  },
  {
   "cell_type": "code",
   "execution_count": null,
   "metadata": {},
   "outputs": [],
   "source": []
  },
  {
   "cell_type": "code",
   "execution_count": null,
   "metadata": {},
   "outputs": [],
   "source": []
  },
  {
   "cell_type": "markdown",
   "metadata": {},
   "source": [
    "# Write a Python program to convert temperatures  from fahrenheit to celsius, \n",
    "#step 1: take \"fahrenheit Temperature\" from user in integer data type\n",
    "#step 2: apply formula that is       (  C = (5/9) * (fahrenheit_temperature - 32)  )\n",
    "#step 3: print step 2. "
   ]
  },
  {
   "cell_type": "code",
   "execution_count": 5,
   "metadata": {},
   "outputs": [
    {
     "name": "stdout",
     "output_type": "stream",
     "text": [
      "Enter Temperature in Fahrenheit: 65\n",
      "Temperature in Celsius is:  18.333333333333336 c\n"
     ]
    }
   ],
   "source": [
    "x=int(input(\"Enter Temperature in Fahrenheit: \"))\n",
    "y = (5/9) * (x - 32)\n",
    "print(\"Temperature in Celsius is: \",y,\"c\")"
   ]
  },
  {
   "cell_type": "code",
   "execution_count": null,
   "metadata": {},
   "outputs": [],
   "source": []
  },
  {
   "cell_type": "code",
   "execution_count": null,
   "metadata": {},
   "outputs": [],
   "source": []
  },
  {
   "cell_type": "markdown",
   "metadata": {},
   "source": [
    "<h3>assign a vlue to grade by checking the following conditions:: </h3>\n",
    "<h3>if % is greater then and equal to 90 and less then 100 grade is A+ </h3>\n",
    "<h3>if % is greater then and equal to 80 and less then 90 grade is A </h3>\n",
    "<h3>if % is greater then and equal to 70 and less then 80 grade is B </h3>\n",
    "<h3>if % is greater then and equal to 60 and less then 70 grade is C </h3>\n",
    "<h3>if % is less than 60 grade is FAIL </h3>\n"
   ]
  },
  {
   "cell_type": "code",
   "execution_count": 7,
   "metadata": {},
   "outputs": [
    {
     "name": "stdout",
     "output_type": "stream",
     "text": [
      "Enter Your Name : Muhammad Muqtada Kamal\n",
      "Enter Your Maths Marks :90\n",
      "Enter Your English Marks : 75\n",
      "Enter Your Computer Marks : 85\n",
      "Enter Your Science Marks : 70\n",
      "NAME :  Muhammad Muqtada Kamal\n",
      "Maths :  90 /100\n",
      "English :  75 /100\n",
      "Computer :  85 /100\n",
      "Science :  70 /100\n",
      "TOTAL MARKS :  320 /400\n",
      "PERCENTAGE :  80.0 %\n",
      "Your Grade is A++\n"
     ]
    }
   ],
   "source": [
    "Student_Name=input('Enter Your Name : ')\n",
    "Maths=int(input('Enter Your Maths Marks :'))\n",
    "English=int(input('Enter Your English Marks : '))\n",
    "Computer=int(input('Enter Your Computer Marks : '))\n",
    "Science=int(input('Enter Your Science Marks : '))\n",
    "\n",
    "Total=(Maths+English+Computer+Science)\n",
    "Percentage =float((Total/400)*100)\n",
    "\n",
    "print('NAME : ',Student_Name)\n",
    "print('Maths : ',Maths,'/100')\n",
    "print('English : ',English,'/100')\n",
    "print('Computer : ',Computer,'/100')\n",
    "print('Science : ',Science,'/100')\n",
    "\n",
    "print('TOTAL MARKS : ',Total,'/400')\n",
    "print('PERCENTAGE : ',Percentage,'%')\n",
    "\n",
    "if Percentage >= 90 and Percentage < 100 :\n",
    "    print('Your Grade is A++')\n",
    "elif Percentage >= 80 and Percentage < 90 :\n",
    "    print('Your Grade is A++')\n",
    "elif Percentage >= 70 and Percentage < 80 :\n",
    "    print('Your Grade is A')\n",
    "elif Percentage >= 60 and Percentage < 70 :\n",
    "    print('Your Grade is B')\n",
    "elif Percentage >= 50 and Percentage < 60 :\n",
    "    print('Your Grade is C')\n",
    "elif Percentage >= 40 and Percentage < 50 :\n",
    "    print('Your Grade is D')\n",
    "elif Percentage > 40 :\n",
    "    print('You are Fail')"
   ]
  },
  {
   "cell_type": "code",
   "execution_count": null,
   "metadata": {},
   "outputs": [],
   "source": []
  },
  {
   "cell_type": "code",
   "execution_count": null,
   "metadata": {},
   "outputs": [],
   "source": []
  },
  {
   "cell_type": "markdown",
   "metadata": {},
   "source": [
    "<h3>Print grade percentage and obtained marks</h3>"
   ]
  },
  {
   "cell_type": "code",
   "execution_count": null,
   "metadata": {},
   "outputs": [],
   "source": []
  }
 ],
 "metadata": {
  "kernelspec": {
   "display_name": "Python 3",
   "language": "python",
   "name": "python3"
  },
  "language_info": {
   "codemirror_mode": {
    "name": "ipython",
    "version": 3
   },
   "file_extension": ".py",
   "mimetype": "text/x-python",
   "name": "python",
   "nbconvert_exporter": "python",
   "pygments_lexer": "ipython3",
   "version": "3.7.3"
  }
 },
 "nbformat": 4,
 "nbformat_minor": 2
}
